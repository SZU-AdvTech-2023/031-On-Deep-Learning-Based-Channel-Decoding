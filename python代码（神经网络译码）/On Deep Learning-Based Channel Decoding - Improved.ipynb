{
 "cells": [
  {
   "cell_type": "markdown",
   "metadata": {},
   "source": [
    "# On Deep Learning-Based Channel Decoding\n",
    "\n",
    "If you want to cite this notebook, please use the following bibtext entry:\n",
    "\n",
    "    @article{nn-decoding,\n",
    "      title={On Deep Learning-Based Channel Decoding},\n",
    "      author={Tobias Gruber and\n",
    "              Sebastian Cammerer and\n",
    "              Jakob Hoydis and\n",
    "              Stephan ten Brink}\n",
    "      journal={CoRR}\n",
    "      year={2017}\n",
    "      url= {http://arxiv.org/abs/1701.07738}\n",
    "    }\n",
    "\n",
    "Running this example requires Keras installed with the Theano backend. For GPU support nvidia-docker is required. A Dockerfile is provided to employ this setup quickly.\n",
    "\n",
    "Our simulation setup was inspired by material from http://radioml.org.\n"
   ]
  },
  {
   "cell_type": "code",
   "execution_count": 16,
   "metadata": {},
   "outputs": [],
   "source": [
    "# !pip install tensorflow\n",
    "# TensorFlow 是一个用于深度学习的开源库"
   ]
  },
  {
   "cell_type": "code",
   "execution_count": 135,
   "metadata": {},
   "outputs": [],
   "source": [
    "import numpy as np #  Python 的一个科学计算库，提供了高性能的多维数组对象及相应工具\n",
    "from tensorflow.keras.models import Sequential # 这是构建神经网络模型的一种简单方式，层按顺序排列\n",
    "from tensorflow.keras.layers import Dense, Lambda #  Dense（全连接层）和 Lambda（自定义层）\n",
    "from tensorflow.keras import backend as K # 提供了执行低级操作（如张量乘法）的能力\n",
    "from tensorflow.keras.losses import MeanSquaredError\n",
    "import matplotlib.pyplot as plt # 用于数据可视化,设置 Jupyter Notebook 以内联方式显示图表\n",
    "%matplotlib inline"
   ]
  },
  {
   "cell_type": "markdown",
   "metadata": {},
   "source": [
    "# Parameters"
   ]
  },
  {
   "cell_type": "code",
   "execution_count": 136,
   "metadata": {},
   "outputs": [],
   "source": [
    "k = 8                       # 信息位\n",
    "N = 16                      # 码长\n",
    "n = int(np.log2(N))\n",
    "train_SNR_Eb = 1            # 训练信噪比 Eb/No\n",
    "\n",
    "nb_epoch = 2**16            # 训练的轮数\n",
    "code = 'polar'              # type of code ('random' or 'polar')\n",
    "design = [128, 64, 32]      # 定义网络中每层的节点数的列表\n",
    "batch_size = 2**k            # 用于计算梯度的批量大小\n",
    "LLR = False                # 'True' enables the log-likelihood-ratio layer\n",
    "optimizer = 'adam'          # adam优化器\n",
    "loss = 'mse'                # or 'binary_crossentropy' 损失函数\n",
    "\n",
    "train_SNR_Es = train_SNR_Eb + 10*np.log10(k/N) # Es/N0(dB)=Eb/N0(dB)+10log10(k),k = R*log2(2)(bpsk调制)\n",
    "train_sigma = np.sqrt(1/(2*10**(train_SNR_Es/10))) # AWGN的噪声标准差\n",
    "# 带dB单位的是对数比值，不带dB单位的是线性比值，即直接比\n",
    "# Es/N0 (dB) = 10 lg(Es/N0)  ，左边是dB单位，右边是无单位，这就是两者转换的公式\n",
    "# AWGN噪声方差 sigma^2 = N0 / 2\n",
    "# 这里我们假设单位符号能量Es = 1，则sigma^2 = 1 / [2 * (Es/N0)]，这里的要线性比值（无单位）"
   ]
  },
  {
   "cell_type": "markdown",
   "metadata": {},
   "source": [
    "# Define NN model"
   ]
  },
  {
   "cell_type": "code",
   "execution_count": 137,
   "metadata": {},
   "outputs": [],
   "source": [
    "def modulateBPSK(x):\n",
    "    # BPSK调制\n",
    "    return -2*x +1;\n",
    "\n",
    "def addNoise(x, sigma):\n",
    "    # 添加高斯噪声\n",
    "    w = K.random_normal(K.shape(x), mean=0.0, stddev=sigma)\n",
    "    return x + w\n",
    "\n",
    "def ber(y_true, y_pred):\n",
    "    # 计算BER\n",
    "    return K.mean(K.not_equal(y_true, K.round(y_pred)))\n",
    "\n",
    "def return_output_shape(input_shape):  \n",
    "    return input_shape\n",
    "\n",
    "def compose_model(layers):\n",
    "    # 用于组合多个层创建一个序贯（Sequential）模型\n",
    "    model = Sequential()\n",
    "    for layer in layers:\n",
    "        model.add(layer)\n",
    "    return model\n",
    "\n",
    "def log_likelihood_ratio(x, sigma):\n",
    "    # 计算对数似然比\n",
    "    return 2*x/np.float32(sigma**2)\n",
    "\n",
    "def errors(y_true, y_pred):\n",
    "    # 一个自定义的度量函数，用于计算预测和真实标签之间的错误数\n",
    "#     return K.sum(K.not_equal(y_true, K.round(y_pred)))\n",
    "    errors_tensor = K.cast(K.not_equal(y_true, K.round(y_pred)), 'float32')\n",
    "    return K.sum(errors_tensor)\n"
   ]
  },
  {
   "cell_type": "markdown",
   "metadata": {},
   "source": [
    "Lambda 层是一个灵活的层，允许你在模型中应用任意的表达式或函数作为一个层的操作。这使得你可以快速地将简单的、自定义的函数集成到Keras的序贯（Sequential）或函数式（Functional）模型中。"
   ]
  },
  {
   "cell_type": "code",
   "execution_count": 138,
   "metadata": {},
   "outputs": [],
   "source": [
    "# # Define modulator\n",
    "# modulator_layers = [Lambda(modulateBPSK, \n",
    "#                           input_shape=(N,), output_shape=return_output_shape, name=\"modulator\")]\n",
    "# modulator = compose_model(modulator_layers) # 将这些层组合成一个完整的模型\n",
    "# modulator.compile(optimizer=optimizer, loss=loss) # 调用 compile 方法配置模型的训练过程，包括设置优化器和损失函数\n",
    "\n",
    "# # Define noise\n",
    "# noise_layers = [Lambda(addNoise, arguments={'sigma':train_sigma}, \n",
    "#                        input_shape=(N,), output_shape=return_output_shape, name=\"noise\")]\n",
    "# noise = compose_model(noise_layers)\n",
    "# noise.compile(optimizer=optimizer, loss=loss)\n",
    "\n",
    "# # Define LLR\n",
    "# llr_layers = [Lambda(log_likelihood_ratio, arguments={'sigma':train_sigma}, \n",
    "#                      input_shape=(N,), output_shape=return_output_shape, name=\"LLR\")]\n",
    "# llr = compose_model(llr_layers)\n",
    "# llr.compile(optimizer=optimizer, loss=loss)\n",
    "\n",
    "# Define decoder \n",
    "decoder_layers = [Dense(design[0], activation='relu', input_shape=(N,))]\n",
    "for i in range(1,len(design)):\n",
    "    decoder_layers.append(Dense(design[i], activation='relu'))\n",
    "decoder_layers.append(Dense(k, activation='sigmoid'))\n",
    "decoder = compose_model(decoder_layers)\n",
    "decoder.compile(optimizer=optimizer, loss=loss, metrics=[errors])\n",
    "\n",
    "# # Define model\n",
    "# if LLR:\n",
    "#     model_layers = modulator_layers + noise_layers + llr_layers + decoder_layers\n",
    "# else:\n",
    "#     model_layers = modulator_layers + noise_layers + decoder_layers\n",
    "# model = compose_model(model_layers)\n",
    "# model.compile(optimizer=optimizer, loss=loss, metrics=[ber])\n",
    "# model = decoder"
   ]
  },
  {
   "cell_type": "markdown",
   "metadata": {},
   "source": [
    "# Data Generation"
   ]
  },
  {
   "cell_type": "code",
   "execution_count": 139,
   "metadata": {},
   "outputs": [],
   "source": [
    "def half_adder(a,b):\n",
    "    # 半加器，用于执行两个比特的加法\n",
    "    s = a ^ b # 异或操作，得到求和结果\n",
    "    c = a & b # 与操作，得到进位结果\n",
    "    return s,c\n",
    "\n",
    "def full_adder(a,b,c):\n",
    "    # 完整加法器的实现，处理两个比特的加法和进位\n",
    "    s = (a ^ b) ^ c\n",
    "    c = (a & b) | (c & (a ^ b))\n",
    "    return s,c\n",
    "\n",
    "def add_bool(a,b):\n",
    "    if len(a) != len(b):\n",
    "        raise ValueError('arrays with different length')\n",
    "    k = len(a)\n",
    "    s = np.zeros(k,dtype=bool)\n",
    "    c = False\n",
    "    for i in reversed(range(0,k)):\n",
    "        s[i], c = full_adder(a[i],b[i],c)    \n",
    "    if c:\n",
    "        warnings.warn(\"Addition overflow!\")\n",
    "    return s\n",
    "\n",
    "def inc_bool(a):\n",
    "    k = len(a)\n",
    "    increment = np.hstack((np.zeros(k-1,dtype=bool), np.ones(1,dtype=bool)))\n",
    "    a = add_bool(a,increment)\n",
    "    return a\n",
    "\n",
    "def bitrevorder(x):\n",
    "    m = np.amax(x)\n",
    "    n = np.ceil(np.log2(m)).astype(int)\n",
    "    for i in range(0,len(x)):\n",
    "        x[i] = int('{:0{n}b}'.format(x[i],n=n)[::-1],2)  \n",
    "    return x\n",
    "\n",
    "def int2bin(x,N):\n",
    "    if isinstance(x, list) or isinstance(x, np.ndarray):\n",
    "        binary = np.zeros((len(x),N),dtype='bool')\n",
    "        for i in range(0,len(x)):\n",
    "            binary[i] = np.array([int(j) for j in bin(x[i])[2:].zfill(N)])\n",
    "    else:\n",
    "        binary = np.array([int(j) for j in bin(x)[2:].zfill(N)],dtype=bool)\n",
    "    \n",
    "    return binary\n",
    "\n",
    "def bin2int(b):\n",
    "    if isinstance(b[0], list):\n",
    "        integer = np.zeros((len(b),),dtype=int)\n",
    "        for i in range(0,len(b)):\n",
    "            out = 0\n",
    "            for bit in b[i]:\n",
    "                out = (out << 1) | bit\n",
    "            integer[i] = out\n",
    "    elif isinstance(b, np.ndarray):\n",
    "        if len(b.shape) == 1:\n",
    "            out = 0\n",
    "            for bit in b:\n",
    "                out = (out << 1) | bit\n",
    "            integer = out     \n",
    "        else:\n",
    "            integer = np.zeros((b.shape[0],),dtype=int)\n",
    "            for i in range(0,b.shape[0]):\n",
    "                out = 0\n",
    "                for bit in b[i]:\n",
    "                    out = (out << 1) | bit\n",
    "                integer[i] = out\n",
    "        \n",
    "    return integer\n",
    "\n",
    "def polar_design_awgn(N, k, design_snr_dB):  \n",
    "        \n",
    "    S = 10**(design_snr_dB/10)\n",
    "    z0 = np.zeros(N)\n",
    "\n",
    "    z0[0] = np.exp(-S)\n",
    "    for j in range(1,int(np.log2(N))+1):\n",
    "        u = 2**j\n",
    "        for t in range(0,int(u/2)):\n",
    "            T = z0[t]\n",
    "            z0[t] = 2*T - T**2     # upper channel\n",
    "            z0[int(u/2)+t] = T**2  # lower channel\n",
    "        \n",
    "    # sort into increasing order\n",
    "    idx = np.argsort(z0)\n",
    "        \n",
    "    # select k best channels\n",
    "    idx = np.sort(bitrevorder(idx[0:k]))\n",
    "    \n",
    "    A = np.zeros(N, dtype=bool)\n",
    "    A[idx] = True\n",
    "        \n",
    "    return A\n",
    "\n",
    "def polar_transform_iter(u):\n",
    "\n",
    "    N = len(u)\n",
    "    n = 1\n",
    "    x = np.copy(u)\n",
    "    stages = np.log2(N).astype(int)\n",
    "    for s in range(0,stages):\n",
    "        i = 0\n",
    "        while i < N:\n",
    "            for j in range(0,n):\n",
    "                idx = i+j\n",
    "                x[idx] = x[idx] ^ x[idx+n] # 极化\n",
    "            i=i+2*n\n",
    "        n=2*n\n",
    "    return x\n",
    "\n",
    "def G_N(n):\n",
    "    G = np.array([[1, 0], [1, 1]])  # 初始生成矩阵 G2\n",
    "    for _ in range(1, n):\n",
    "        N = int(2 ** _)  # 确保N是整数\n",
    "        G_up = np.hstack([np.hstack([G[:, j:j+1], np.zeros((N, 1), dtype=int)]) for j in range(N)])\n",
    "        G_down = np.hstack([np.hstack([G[:, j:j+1], G[:, j:j+1]]) for j in range(N)])\n",
    "        G = np.vstack([G_up, G_down])\n",
    "    return G\n",
    "\n",
    "def MAP(codebook, y, G, A):\n",
    "    num = len(codebook)\n",
    "    s = 1 - 2 * codebook\n",
    "    mse = np.zeros(num)\n",
    "    for i in range(num):\n",
    "        mse[i] = np.sum((s[i, :] - y) ** 2)\n",
    "    index = np.argmin(mse)\n",
    "    u = np.mod(np.dot(codebook[index, :], G), 2)\n",
    "    return u[A]\n",
    "\n",
    "def MAP_batch(codebook, y_batch, G, A):\n",
    "    map_d_batch = []\n",
    "    for y in y_batch:  # 对每个样本进行MAP译码\n",
    "        map_d = MAP(codebook, y, G, A)\n",
    "        map_d_batch.append(map_d)\n",
    "    return np.array(map_d_batch)\n"
   ]
  },
  {
   "cell_type": "code",
   "execution_count": 140,
   "metadata": {},
   "outputs": [],
   "source": [
    "# 创建所有可能的信息位，从全0到全1，每一个都生成了\n",
    "d = np.zeros((2**k,k),dtype=bool)\n",
    "for i in range(1,2**k):\n",
    "    d[i]= inc_bool(d[i-1])\n",
    "\n",
    "# 创建所有可能的码字集（码本）\n",
    "if code == 'polar':   \n",
    "    \n",
    "    A = polar_design_awgn(N, k, design_snr_dB=0)  # SNR(dB) = 0得出来的信息索引\n",
    "    x = np.zeros((2**k, N),dtype=bool) \n",
    "    u = np.zeros((2**k, N),dtype=bool)\n",
    "    u[:,A] = d\n",
    "\n",
    "    for i in range(0,2**k):\n",
    "        x[i] = polar_transform_iter(u[i]) # 编码\n",
    "\n",
    "elif code == 'random':\n",
    "    \n",
    "    np.random.seed(4267)   # for a 16bit Random Code (r=0.5) with Hamming distance >= 2\n",
    "    x = np.random.randint(0,2,size=(2**k,N), dtype=bool)\n",
    "\n",
    "codebook = x\n",
    "G = G_N(n)"
   ]
  },
  {
   "cell_type": "markdown",
   "metadata": {},
   "source": [
    "# Train Neural Network"
   ]
  },
  {
   "cell_type": "code",
   "execution_count": 144,
   "metadata": {},
   "outputs": [
    {
     "name": "stdout",
     "output_type": "stream",
     "text": [
      "Model: \"sequential_7\"\n",
      "_________________________________________________________________\n",
      " Layer (type)                Output Shape              Param #   \n",
      "=================================================================\n",
      " dense_28 (Dense)            (None, 128)               2176      \n",
      "                                                                 \n",
      " dense_29 (Dense)            (None, 64)                8256      \n",
      "                                                                 \n",
      " dense_30 (Dense)            (None, 32)                2080      \n",
      "                                                                 \n",
      " dense_31 (Dense)            (None, 8)                 264       \n",
      "                                                                 \n",
      "=================================================================\n",
      "Total params: 12776 (49.91 KB)\n",
      "Trainable params: 12776 (49.91 KB)\n",
      "Non-trainable params: 0 (0.00 Byte)\n",
      "_________________________________________________________________\n",
      "(256, 8)\n"
     ]
    },
    {
     "ename": "KeyboardInterrupt",
     "evalue": "",
     "output_type": "error",
     "traceback": [
      "\u001b[1;31m---------------------------------------------------------------------------\u001b[0m",
      "\u001b[1;31mKeyboardInterrupt\u001b[0m                         Traceback (most recent call last)",
      "Cell \u001b[1;32mIn[144], line 10\u001b[0m\n\u001b[0;32m      8\u001b[0m     y_train \u001b[38;5;241m=\u001b[39m s_train \u001b[38;5;241m+\u001b[39m train_sigma \u001b[38;5;241m*\u001b[39m np\u001b[38;5;241m.\u001b[39mrandom\u001b[38;5;241m.\u001b[39mstandard_normal(s_train\u001b[38;5;241m.\u001b[39mshape)\n\u001b[0;32m      9\u001b[0m     \u001b[38;5;66;03m# y_train为输入，map_d为map译码结果，为训练的目标\u001b[39;00m\n\u001b[1;32m---> 10\u001b[0m     map_d \u001b[38;5;241m=\u001b[39m MAP_batch(codebook, y_train, G, A)\n\u001b[0;32m     11\u001b[0m     \u001b[38;5;28mprint\u001b[39m(map_d\u001b[38;5;241m.\u001b[39mshape)\n\u001b[0;32m     12\u001b[0m \u001b[38;5;66;03m#     print(\"y_train shape:\", y_train.shape)\u001b[39;00m\n\u001b[0;32m     13\u001b[0m \u001b[38;5;66;03m#     print(\"map_d shape:\", map_d.shape)\u001b[39;00m\n",
      "Cell \u001b[1;32mIn[139], line 134\u001b[0m, in \u001b[0;36mMAP_batch\u001b[1;34m(codebook, y_batch, G, A)\u001b[0m\n\u001b[0;32m    132\u001b[0m map_d_batch \u001b[38;5;241m=\u001b[39m []\n\u001b[0;32m    133\u001b[0m \u001b[38;5;28;01mfor\u001b[39;00m y \u001b[38;5;129;01min\u001b[39;00m y_batch:  \u001b[38;5;66;03m# 对每个样本进行MAP译码\u001b[39;00m\n\u001b[1;32m--> 134\u001b[0m     map_d \u001b[38;5;241m=\u001b[39m MAP(codebook, y, G, A)\n\u001b[0;32m    135\u001b[0m     map_d_batch\u001b[38;5;241m.\u001b[39mappend(map_d)\n\u001b[0;32m    136\u001b[0m \u001b[38;5;28;01mreturn\u001b[39;00m np\u001b[38;5;241m.\u001b[39marray(map_d_batch)\n",
      "Cell \u001b[1;32mIn[139], line 124\u001b[0m, in \u001b[0;36mMAP\u001b[1;34m(codebook, y, G, A)\u001b[0m\n\u001b[0;32m    122\u001b[0m num \u001b[38;5;241m=\u001b[39m \u001b[38;5;28mlen\u001b[39m(codebook)\n\u001b[0;32m    123\u001b[0m s \u001b[38;5;241m=\u001b[39m \u001b[38;5;241m1\u001b[39m \u001b[38;5;241m-\u001b[39m \u001b[38;5;241m2\u001b[39m \u001b[38;5;241m*\u001b[39m codebook\n\u001b[1;32m--> 124\u001b[0m mse \u001b[38;5;241m=\u001b[39m np\u001b[38;5;241m.\u001b[39mzeros(num)\n\u001b[0;32m    125\u001b[0m \u001b[38;5;28;01mfor\u001b[39;00m i \u001b[38;5;129;01min\u001b[39;00m \u001b[38;5;28mrange\u001b[39m(num):\n\u001b[0;32m    126\u001b[0m     mse[i] \u001b[38;5;241m=\u001b[39m np\u001b[38;5;241m.\u001b[39msum((s[i, :] \u001b[38;5;241m-\u001b[39m y) \u001b[38;5;241m*\u001b[39m\u001b[38;5;241m*\u001b[39m \u001b[38;5;241m2\u001b[39m)\n",
      "\u001b[1;31mKeyboardInterrupt\u001b[0m: "
     ]
    }
   ],
   "source": [
    "decoder.summary() # 打印模型的摘要，包括每层的名称、形状和参数数量\n",
    "\n",
    "# BPSK\n",
    "s_train = 1 - 2*x\n",
    "\n",
    "for i in range(0, int(nb_epoch)):\n",
    "    # AWGN\n",
    "    y_train = s_train + train_sigma * np.random.standard_normal(s_train.shape)\n",
    "    # y_train为输入，map_d为map译码结果，为训练的目标\n",
    "    map_d = MAP_batch(codebook, y_train, G, A)\n",
    "#     print(\"y_train shape:\", y_train.shape)\n",
    "#     print(\"map_d shape:\", map_d.shape)\n",
    "    history = decoder.fit(y_train, map_d, batch_size=batch_size, epochs=1, verbose=0, shuffle=True) # 模型训练\n",
    "\n",
    "\n",
    "\n",
    "\n",
    "# x为输入\n",
    "# d为真值/标签\n",
    "# batch_size指定了每次训练迭代中使用的样本数量，每训练一个batch就更新一轮参数\n",
    "# epochs指定了整个训练数据集将被遍历的次数\n",
    "# verbose=0 表示不输出任何训练过程中的信息，1 或 2 会显示更多信息\n",
    "# shuffle=True：在每个训练周期开始时，是否随机打乱输入样本的顺序。这通常有助于提高模型的泛化能力和避免特定的训练顺序所导致的偏差"
   ]
  },
  {
   "cell_type": "markdown",
   "metadata": {},
   "source": [
    "# Test NN"
   ]
  },
  {
   "cell_type": "code",
   "execution_count": 109,
   "metadata": {},
   "outputs": [],
   "source": [
    "test_batch = 1000  \n",
    "num_words = 100000      # multiple of test_batch\n",
    "\n",
    "SNR_dB_start_Eb = 0\n",
    "SNR_dB_stop_Eb = 5\n",
    "SNR_points = 20"
   ]
  },
  {
   "cell_type": "code",
   "execution_count": 110,
   "metadata": {
    "scrolled": true
   },
   "outputs": [],
   "source": [
    "SNR_dB_start_Es = SNR_dB_start_Eb + 10*np.log10(k/N)\n",
    "SNR_dB_stop_Es = SNR_dB_stop_Eb + 10*np.log10(k/N)\n",
    "\n",
    "sigma_start = np.sqrt(1/(2*10**(SNR_dB_start_Es/10)))\n",
    "sigma_stop = np.sqrt(1/(2*10**(SNR_dB_stop_Es/10)))\n",
    "\n",
    "sigmas = np.linspace(sigma_start, sigma_stop, SNR_points)\n",
    "\n",
    "nb_errors = np.zeros(len(sigmas),dtype=int)\n",
    "nb_bits = np.zeros(len(sigmas),dtype=int)\n",
    "\n",
    "for i in range(0,len(sigmas)):\n",
    "\n",
    "    for ii in range(0,np.round(num_words/test_batch).astype(int)):\n",
    "        \n",
    "        # Source\n",
    "        np.random.seed(0)\n",
    "        d_test = np.random.randint(0,2,size=(test_batch,k)) \n",
    "\n",
    "        # Encoder\n",
    "        if code == 'polar':\n",
    "            x_test = np.zeros((test_batch, N),dtype=bool)\n",
    "            u_test = np.zeros((test_batch, N),dtype=bool)\n",
    "            u_test[:,A] = d_test\n",
    "\n",
    "            for iii in range(0,test_batch):\n",
    "                x_test[iii] = polar_transform_iter(u_test[iii])\n",
    "\n",
    "        elif code == 'random':\n",
    "            x_test = np.zeros((test_batch, N),dtype=bool)\n",
    "            for iii in range(0,test_batch):\n",
    "                x_test[iii] = x[bin2int(d_test[iii])]\n",
    "\n",
    "        # Modulator (BPSK)\n",
    "        s_test = -2*x_test + 1\n",
    "\n",
    "        # Channel (AWGN)\n",
    "        y_test = s_test + sigmas[i]*np.random.standard_normal(s_test.shape) # sigma*N(0, 1) = N(0, sigma^2)\n",
    "\n",
    "        if LLR:\n",
    "            y_test = 2*y_test/(sigmas[i]**2)\n",
    "\n",
    "        # Decoder\n",
    "#         map_d = MAP_batch(codebook, y_test, G, A)\n",
    "        nb_errors[i] += decoder.evaluate(y_test, d_test, batch_size=test_batch, verbose=0)[1]\n",
    "        nb_bits[i] += d_test.size"
   ]
  },
  {
   "cell_type": "markdown",
   "metadata": {},
   "source": [
    "# Load MAP"
   ]
  },
  {
   "cell_type": "code",
   "execution_count": 111,
   "metadata": {},
   "outputs": [],
   "source": [
    "# result_map = np.loadtxt('map/{}/results_{}_map_{}_{}.txt'.format(code,code,N,k), delimiter=',')\n",
    "# sigmas_map = result_map[:,0]\n",
    "# nb_bits_map = result_map[:,1]\n",
    "# nb_errors_map = result_map[:,2]"
   ]
  },
  {
   "cell_type": "markdown",
   "metadata": {},
   "source": [
    "# Plot Bit-Error-Rate"
   ]
  },
  {
   "cell_type": "code",
   "execution_count": 112,
   "metadata": {
    "scrolled": false
   },
   "outputs": [
    {
     "data": {
      "image/png": "[encoded data removed]",
      "text/plain": [
       "<Figure size 640x480 with 1 Axes>"
      ]
     },
     "metadata": {},
     "output_type": "display_data"
    }
   ],
   "source": [
    "legend = []\n",
    "\n",
    "plt.plot(10*np.log10(1/(2*sigmas**2)) - 10*np.log10(k/N), nb_errors/nb_bits)\n",
    "legend.append('NN') \n",
    "\n",
    "# plt.plot(10*np.log10(1/(2*sigmas_map**2)) - 10*np.log10(k/N), nb_errors_map/nb_bits_map)\n",
    "# legend.append('MAP') \n",
    "\n",
    "plt.legend(legend, loc=3)\n",
    "plt.yscale('log')\n",
    "plt.xlabel('$E_b/N_0$')\n",
    "plt.ylabel('BER')    \n",
    "plt.grid(True)\n",
    "plt.show()"
   ]
  },
  {
   "cell_type": "code",
   "execution_count": 113,
   "metadata": {},
   "outputs": [
    {
     "data": {
      "text/plain": [
       "array([0.40975 , 0.4075  , 0.40475 , 0.401625, 0.39975 , 0.395875,\n",
       "       0.396   , 0.393375, 0.390875, 0.3905  , 0.388625, 0.386375,\n",
       "       0.386125, 0.383625, 0.38275 , 0.38175 , 0.38075 , 0.378875,\n",
       "       0.378   , 0.37825 ])"
      ]
     },
     "execution_count": 113,
     "metadata": {},
     "output_type": "execute_result"
    }
   ],
   "source": [
    "nnd_ber = nb_errors/nb_bits\n",
    "nnd_ber"
   ]
  },
  {
   "cell_type": "code",
   "execution_count": 114,
   "metadata": {},
   "outputs": [],
   "source": [
    "def to_matlab_array_format(data):\n",
    "    return 'nnd_ber = [' + ', '.join(map(str, data)) + '];'"
   ]
  },
  {
   "cell_type": "code",
   "execution_count": 115,
   "metadata": {},
   "outputs": [
    {
     "data": {
      "text/plain": [
       "'nnd_ber = [0.40975, 0.4075, 0.40475, 0.401625, 0.39975, 0.395875, 0.396, 0.393375, 0.390875, 0.3905, 0.388625, 0.386375, 0.386125, 0.383625, 0.38275, 0.38175, 0.38075, 0.378875, 0.378, 0.37825];'"
      ]
     },
     "execution_count": 115,
     "metadata": {},
     "output_type": "execute_result"
    }
   ],
   "source": [
    "to_matlab_array_format(nnd_ber)"
   ]
  },
  {
   "cell_type": "code",
   "execution_count": 113,
   "metadata": {},
   "outputs": [
    {
     "data": {
      "text/plain": [
       "3.010299956639812"
      ]
     },
     "execution_count": 113,
     "metadata": {},
     "output_type": "execute_result"
    }
   ],
   "source": [
    "0-10*np.log10(k/N)"
   ]
  },
  {
   "cell_type": "code",
   "execution_count": 78,
   "metadata": {},
   "outputs": [],
   "source": [
    "my_test = np.random.randint(0,2,size=(num_words,k)) \n",
    "x_test = np.zeros((num_words, N),dtype=bool)\n",
    "u_test = np.zeros((num_words, N),dtype=bool)\n",
    "u_test[:,A] = my_test\n",
    "\n",
    "for iii in range(0,num_words):\n",
    "    x_test[iii] = polar_transform_iter(u_test[iii])\n",
    "s_test = -2*x_test + 1\n",
    "\n",
    "# Channel (AWGN)\n",
    "y_test = s_test + sigmas[10]*np.random.standard_normal(s_test.shape) # sigma*N(0, 1) = N(0, sigma^2)\n",
    "\n",
    "if LLR:\n",
    "    y_test = 2*y_test/(sigmas[10]**2)\n",
    "    "
   ]
  },
  {
   "cell_type": "code",
   "execution_count": 95,
   "metadata": {},
   "outputs": [
    {
     "data": {
      "text/plain": [
       "0.7696533290475521"
      ]
     },
     "execution_count": 95,
     "metadata": {},
     "output_type": "execute_result"
    }
   ],
   "source": [
    "sigmas[10]"
   ]
  },
  {
   "cell_type": "code",
   "execution_count": 80,
   "metadata": {},
   "outputs": [],
   "source": [
    "my_errors = 0\n",
    "for i in range(0,1000): \n",
    "    temp = y_test[i].reshape(1, -1)\n",
    "#     temp = MAP(codebook, y_test[i], G, A).reshape(1, -1)\n",
    "    u_hat = decoder.predict(temp, verbose=0)\n",
    "    my_errors += errors(my_test[i], u_hat).numpy()\n"
   ]
  },
  {
   "cell_type": "code",
   "execution_count": 84,
   "metadata": {},
   "outputs": [
    {
     "data": {
      "text/plain": [
       "3071.0"
      ]
     },
     "execution_count": 84,
     "metadata": {},
     "output_type": "execute_result"
    }
   ],
   "source": [
    "my_errors"
   ]
  },
  {
   "cell_type": "code",
   "execution_count": 85,
   "metadata": {},
   "outputs": [
    {
     "data": {
      "text/plain": [
       "0.383875"
      ]
     },
     "execution_count": 85,
     "metadata": {},
     "output_type": "execute_result"
    }
   ],
   "source": [
    "my_errors / (1000 * 8)"
   ]
  },
  {
   "cell_type": "code",
   "execution_count": 86,
   "metadata": {},
   "outputs": [
    {
     "data": {
      "text/plain": [
       "array([[2.6862158e-03, 9.9990666e-01, 3.4084523e-28, 6.5986482e-05,\n",
       "        4.7580204e-26, 9.5839132e-06, 1.0000000e+00, 1.8676095e-05]],\n",
       "      dtype=float32)"
      ]
     },
     "execution_count": 86,
     "metadata": {},
     "output_type": "execute_result"
    }
   ],
   "source": [
    "u_hat"
   ]
  },
  {
   "cell_type": "code",
   "execution_count": null,
   "metadata": {},
   "outputs": [],
   "source": []
  }
 ],
 "metadata": {
  "kernelspec": {
   "display_name": "Python 3 (ipykernel)",
   "language": "python",
   "name": "python3"
  },
  "language_info": {
   "codemirror_mode": {
    "name": "ipython",
    "version": 3
   },
   "file_extension": ".py",
   "mimetype": "text/x-python",
   "name": "python",
   "nbconvert_exporter": "python",
   "pygments_lexer": "ipython3",
   "version": "3.11.5"
  }
 },
 "nbformat": 4,
 "nbformat_minor": 1
}
